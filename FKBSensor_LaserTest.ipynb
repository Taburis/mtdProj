{
 "cells": [
  {
   "cell_type": "code",
   "execution_count": 2,
   "metadata": {},
   "outputs": [],
   "source": [
    "import mtdProcess as mp\n",
    "from mtdScope import scopeEmulator\n",
    "import matplotlib.pyplot as plt\n",
    "import numpy as np\n",
    "import os\n",
    "import re\n",
    "\n",
    "infile = 'data/FBKsensor_LaserTesting/Batch2_6-3/HV110HP_DG.hdf5'\n",
    "\n",
    "se = scopeEmulator()\n",
    "se.loadData(infile)\n",
    "se.sliceEvent()\n",
    "\n",
    "#se.showEvent(575,[1,2])\n",
    "#se.debug_cft(575,1,'linear',500)"
   ]
  },
  {
   "cell_type": "code",
   "execution_count": null,
   "metadata": {
    "scrolled": true
   },
   "outputs": [],
   "source": [
    "xs1, ys1 = mp.run_list_CFT(\"\\w+HP\\w+.hdf5\", 'data/FKBSensor_LaserTest/Batch2_6-3/',mp.extract_number, 2,[1])\n",
    "xs2, ys2 = mp.run_list_CFT(\"\\w+HP\\w+.hdf5\", 'data/FKBSensor_LaserTest/Batch2_7-3/',mp.extract_number, 2,[1])\n",
    "xs3, ys3 = mp.run_list_CFT(\"\\w+HP\\w+.hdf5\", 'data/FKBSensor_LaserTest/Batch2_9-3/',mp.extract_number, 2,[1])"
   ]
  },
  {
   "cell_type": "code",
   "execution_count": null,
   "metadata": {},
   "outputs": [],
   "source": [
    "plt.scatter(xs1, ys1, label = \"Batch2_6-3 HighPower\")\n",
    "plt.scatter(xs2, ys2, label = \"Batch2_7-3 HighPower\")\n",
    "plt.scatter(xs3, ys3, label = \"Batch2_9-3 HighPower\")\n",
    "plt.legend(loc='best')\n",
    "plt.xlabel('High Voltage (V)')\n",
    "plt.ylabel('Jitter (ps)')\n",
    "plt.grid(linestyle='--')\n",
    "plt.savefig('FKBSensor_LaserTest_HighPower.png')"
   ]
  },
  {
   "cell_type": "code",
   "execution_count": null,
   "metadata": {
    "scrolled": true
   },
   "outputs": [],
   "source": [
    "xs1, ys1 = mp.run_list_CFT(\"\\w+LP\\w+.hdf5\", 'data/FKBSensor_LaserTest/Batch2_6-3/',mp.extract_number, 2,[1])\n",
    "xs2, ys2 = mp.run_list_CFT(\"\\w+LP\\w+.hdf5\", 'data/FKBSensor_LaserTest/Batch2_7-3/',mp.extract_number, 2,[1])\n",
    "xs3, ys3 = mp.run_list_CFT(\"\\w+LP\\w+.hdf5\", 'data/FKBSensor_LaserTest/Batch2_9-3/',mp.extract_number, 2,[1])"
   ]
  },
  {
   "cell_type": "code",
   "execution_count": null,
   "metadata": {},
   "outputs": [],
   "source": [
    "plt.scatter(xs1, ys1, label = \"Batch2_6-3 LowPower\")\n",
    "plt.scatter(xs2, ys2, label = \"Batch2_7-3 LowPower\")\n",
    "plt.scatter(xs3, ys3, label = \"Batch2_9-3 LowPower\")\n",
    "plt.legend(loc='best')\n",
    "plt.xlabel('High Voltage (V)')\n",
    "plt.ylabel('Jitter (ps)')\n",
    "plt.grid(linestyle='--')\n",
    "plt.savefig('FKBSensor_LaserTest_LowPower.png')"
   ]
  },
  {
   "cell_type": "code",
   "execution_count": null,
   "metadata": {},
   "outputs": [],
   "source": []
  },
  {
   "cell_type": "code",
   "execution_count": null,
   "metadata": {},
   "outputs": [],
   "source": []
  }
 ],
 "metadata": {
  "kernelspec": {
   "display_name": "Python 3",
   "language": "python",
   "name": "python3"
  },
  "language_info": {
   "codemirror_mode": {
    "name": "ipython",
    "version": 3
   },
   "file_extension": ".py",
   "mimetype": "text/x-python",
   "name": "python",
   "nbconvert_exporter": "python",
   "pygments_lexer": "ipython3",
   "version": "3.8.1"
  }
 },
 "nbformat": 4,
 "nbformat_minor": 2
}
