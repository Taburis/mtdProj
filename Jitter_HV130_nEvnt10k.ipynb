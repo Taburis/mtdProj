{
 "cells": [
  {
   "cell_type": "code",
   "execution_count": 1,
   "metadata": {},
   "outputs": [],
   "source": [
    "from mtdScope import scopeEmulator\n",
    "import matplotlib.pyplot as plt\n",
    "import numpy as np\n",
    "import time\n",
    "        \n",
    "#load the sample data to test\n",
    "se = scopeEmulator()\n",
    "#se.loadData('./data/HV160_high_300mV_def.hd5')\n",
    "se.loadData('./data/HV160_high_300mV_def.hd5')\n",
    "se.sliceEvent()\n"
   ]
  },
  {
   "cell_type": "code",
   "execution_count": 2,
   "metadata": {},
   "outputs": [
    {
     "name": "stdout",
     "output_type": "stream",
     "text": [
      "processing the 0th events...\n",
      "processing the 100th events...\n",
      "processing the 200th events...\n",
      "processing the 300th events...\n",
      "processing the 400th events...\n",
      "processing the 500th events...\n",
      "processing the 600th events...\n",
      "processing the 700th events...\n",
      "processing the 800th events...\n",
      "processing the 900th events...\n",
      "processing the 1000th events...\n",
      "processing the 1100th events...\n",
      "processing the 1200th events...\n",
      "processing the 1300th events...\n",
      "processing the 1400th events...\n",
      "processing the 1500th events...\n",
      "processing the 1600th events...\n",
      "processing the 1700th events...\n",
      "processing the 1800th events...\n",
      "processing the 1900th events...\n",
      "processing the 2000th events...\n",
      "processing the 2100th events...\n",
      "processing the 2200th events...\n",
      "processing the 2300th events...\n",
      "processing the 2400th events...\n",
      "processing the 2500th events...\n",
      "processing the 2600th events...\n",
      "processing the 2700th events...\n",
      "processing the 2800th events...\n",
      "processing the 2900th events...\n",
      "processing the 3000th events...\n",
      "processing the 3100th events...\n",
      "processing the 3200th events...\n",
      "processing the 3300th events...\n",
      "processing the 3400th events...\n",
      "processing the 3500th events...\n",
      "processing the 3600th events...\n",
      "processing the 3700th events...\n",
      "processing the 3800th events...\n",
      "processing the 3900th events...\n",
      "processing the 4000th events...\n",
      "processing the 4100th events...\n",
      "processing the 4200th events...\n",
      "processing the 4300th events...\n",
      "processing the 4400th events...\n",
      "processing the 4500th events...\n",
      "processing the 4600th events...\n",
      "processing the 4700th events...\n",
      "processing the 4800th events...\n",
      "processing the 4900th events...\n",
      "time consumed: 11.492408990859985\n",
      "trigger time jitter = 16.195196\n",
      "preAmp time jitter = 19.589712\n",
      "Walk corrected time jitter = 19.589712\n"
     ]
    },
    {
     "data": {
      "text/plain": [
       "(array([  2.,   8.,  20.,  53.,  97., 182., 335., 480., 641., 736., 740.,\n",
       "        639., 422., 331., 174.,  80.,  33.,  22.,   2.,   3.]),\n",
       " array([42318.1640625 , 42323.60332031, 42329.04257813, 42334.48183594,\n",
       "        42339.92109375, 42345.36035156, 42350.79960937, 42356.23886719,\n",
       "        42361.678125  , 42367.11738281, 42372.55664062, 42377.99589844,\n",
       "        42383.43515625, 42388.87441406, 42394.31367188, 42399.75292969,\n",
       "        42405.1921875 , 42410.63144531, 42416.07070312, 42421.50996094,\n",
       "        42426.94921875]),\n",
       " <a list of 20 Patch objects>)"
      ]
     },
     "execution_count": 2,
     "metadata": {},
     "output_type": "execute_result"
    },
    {
     "data": {
      "image/png": "[encoded data removed]",
      "text/plain": [
       "<matplotlib.figure.Figure at 0x10a283eb8>"
      ]
     },
     "metadata": {
      "needs_background": "light"
     },
     "output_type": "display_data"
    }
   ],
   "source": [
    "ts = se.runTimeWalk(r0=0, r1= 5000, nstep = 100, method = 'newton')\n",
    "dts = np.subtract(ts[1], ts[0])\n",
    "print('trigger time jitter = '+str(ts[0].std()))\n",
    "print('preAmp time jitter = '+str(ts[1].std()))\n",
    "print('Walk corrected time jitter = '+str(ts[1].std()))\n",
    "plt.hist(dts, 20)\n"
   ]
  },
  {
   "cell_type": "code",
   "execution_count": 3,
   "metadata": {},
   "outputs": [
    {
     "name": "stdout",
     "output_type": "stream",
     "text": [
      "min: 1975\n",
      "max: 816\n"
     ]
    },
    {
     "data": {
      "text/plain": [
       "63173.254"
      ]
     },
     "execution_count": 3,
     "metadata": {},
     "output_type": "execute_result"
    }
   ],
   "source": [
    "print('min: '+str(np.argmin(dts)))\n",
    "print('max: '+str(np.argmax(dts)))\n",
    "ts[1][202]"
   ]
  },
  {
   "cell_type": "code",
   "execution_count": 4,
   "metadata": {},
   "outputs": [
    {
     "data": {
      "image/png": "[encoded data removed]",
      "text/plain": [
       "<matplotlib.figure.Figure at 0x10a3032e8>"
      ]
     },
     "metadata": {
      "needs_background": "light"
     },
     "output_type": "display_data"
    }
   ],
   "source": [
    "\n",
    "contral={}\n",
    "contral['zoomRange'] = 500\n",
    "contral['check_signalCFT'] = True\n",
    "contral['check_getCFTiming'] = True\n",
    "se.debug_cft(202, 1, 'linear', contral)"
   ]
  },
  {
   "cell_type": "code",
   "execution_count": null,
   "metadata": {},
   "outputs": [],
   "source": []
  }
 ],
 "metadata": {
  "kernelspec": {
   "display_name": "Python 3",
   "language": "python",
   "name": "python3"
  },
  "language_info": {
   "codemirror_mode": {
    "name": "ipython",
    "version": 3
   },
   "file_extension": ".py",
   "mimetype": "text/x-python",
   "name": "python",
   "nbconvert_exporter": "python",
   "pygments_lexer": "ipython3",
   "version": "3.5.0"
  }
 },
 "nbformat": 4,
 "nbformat_minor": 2
}
