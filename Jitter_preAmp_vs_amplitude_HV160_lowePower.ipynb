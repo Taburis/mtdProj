{
 "cells": [
  {
   "cell_type": "code",
   "execution_count": 1,
   "metadata": {},
   "outputs": [
    {
     "name": "stdout",
     "output_type": "stream",
     "text": [
      "processing the 0th events...\n",
      "processing the 2500th events...\n",
      "time consumed: 12.705011129379272\n",
      "trigger time jitter = 16.258907\n",
      "preAmp time jitter = 36.006298\n",
      "Walk corrected time jitter = 33.295055\n",
      "processing the 0th events...\n",
      "processing the 2500th events...\n",
      "time consumed: 11.507867097854614\n",
      "trigger time jitter = 16.27806\n",
      "preAmp time jitter = 23.406107\n",
      "Walk corrected time jitter = 19.565441\n",
      "processing the 0th events...\n",
      "processing the 2500th events...\n",
      "time consumed: 11.020934104919434\n",
      "trigger time jitter = 16.195196\n",
      "preAmp time jitter = 14.644978\n",
      "Walk corrected time jitter = 14.644978\n"
     ]
    }
   ],
   "source": [
    "from mtdScope import scopeEmulator\n",
    "import matplotlib.pyplot as plt\n",
    "import numpy as np\n",
    "import time\n",
    "\n",
    "\n",
    "dt_highPower=[]\n",
    "\n",
    "#load the sample data to test\n",
    "se1 = scopeEmulator()\n",
    "se1.loadData('./data/LaserTest_HV160_low/HV160_high_100mV_def.hd5')\n",
    "se1.sliceEvent()\n",
    "ts = se1.runTimeWalk(r0=0, r1= se1.nevent, nstep = 2500, method = 'newton')\n",
    "dts = np.subtract(ts[1], ts[0])\n",
    "print('trigger time jitter = '+str(ts[0].std()))\n",
    "print('preAmp time jitter = '+str(ts[1].std()))\n",
    "print('Walk corrected time jitter = '+str(dts.std()))\n",
    "dt_highPower.append(dts.std())\n",
    "\n",
    "se2 = scopeEmulator()\n",
    "se2.loadData('./data/LaserTest_HV160_low/HV160_high_200mV_def.hd5')\n",
    "se2.sliceEvent()\n",
    "ts = se2.runTimeWalk(r0=0, r1= se2.nevent, nstep = 2500, method = 'newton')\n",
    "dts = np.subtract(ts[1], ts[0])\n",
    "print('trigger time jitter = '+str(ts[0].std()))\n",
    "print('preAmp time jitter = '+str(ts[1].std()))\n",
    "print('Walk corrected time jitter = '+str(dts.std()))\n",
    "dt_highPower.append(dts.std())\n",
    "\n",
    "se3 = scopeEmulator()\n",
    "se3.loadData('./data/LaserTest_HV160_low/HV160_high_300mV_def.hd5')\n",
    "se3.sliceEvent()\n",
    "ts = se3.runTimeWalk(r0=0, r1= se3.nevent, nstep = 2500, method = 'newton')\n",
    "dts = np.subtract(ts[1], ts[0])\n",
    "print('trigger time jitter = '+str(ts[0].std()))\n",
    "print('preAmp time jitter = '+str(dts.std()))\n",
    "print('Walk corrected time jitter = '+str(dts.std()))\n",
    "dt_highPower.append(dts.std())"
   ]
  },
  {
   "cell_type": "code",
   "execution_count": 2,
   "metadata": {
    "scrolled": true
   },
   "outputs": [
    {
     "name": "stdout",
     "output_type": "stream",
     "text": [
      "processing the 0th events...\n",
      "processing the 2500th events...\n",
      "time consumed: 11.181225061416626\n",
      "trigger time jitter = 16.168196\n",
      "preAmp time jitter = 45.486835\n",
      "Walk corrected time jitter = 43.49707\n",
      "processing the 0th events...\n",
      "processing the 2500th events...\n",
      "time consumed: 11.139863967895508\n",
      "trigger time jitter = 16.11247\n",
      "preAmp time jitter = 27.302267\n",
      "Walk corrected time jitter = 23.93794\n",
      "processing the 0th events...\n",
      "processing the 2500th events...\n",
      "time consumed: 10.304812908172607\n",
      "trigger time jitter = 16.098186\n",
      "preAmp time jitter = 17.267035\n",
      "Walk corrected time jitter = 17.267035\n"
     ]
    }
   ],
   "source": [
    "dt_lowPower = []\n",
    "#load the sample data to test\n",
    "se1 = scopeEmulator()\n",
    "folder = './data/LaserTest_HV160_low/'\n",
    "se1.loadData(folder+'HV160_low_100mV_def.hd5')\n",
    "se1.sliceEvent()\n",
    "ts = se1.runTimeWalk(r0=0, r1= se1.nevent, nstep = 2500, method = 'newton')\n",
    "dts = np.subtract(ts[1], ts[0])\n",
    "print('trigger time jitter = '+str(ts[0].std()))\n",
    "print('preAmp time jitter = '+str(ts[1].std()))\n",
    "print('Walk corrected time jitter = '+str(dts.std()))\n",
    "dt_lowPower.append(dts.std())\n",
    "\n",
    "se2 = scopeEmulator()\n",
    "se2.loadData(folder+'HV160_low_200mV_def.hd5')\n",
    "se2.sliceEvent()\n",
    "ts = se2.runTimeWalk(r0=0, r1= se2.nevent, nstep = 2500, method = 'newton')\n",
    "dts = np.subtract(ts[1], ts[0])\n",
    "print('trigger time jitter = '+str(ts[0].std()))\n",
    "print('preAmp time jitter = '+str(ts[1].std()))\n",
    "print('Walk corrected time jitter = '+str(dts.std()))\n",
    "dt_lowPower.append(dts.std())\n",
    "\n",
    "se3 = scopeEmulator()\n",
    "se3.loadData(folder+'HV160_low_300mV_def.hd5')\n",
    "se3.sliceEvent()\n",
    "ts = se3.runTimeWalk(r0=0, r1= se3.nevent, nstep = 2500, method = 'newton')\n",
    "dts = np.subtract(ts[1], ts[0])\n",
    "print('trigger time jitter = '+str(ts[0].std()))\n",
    "print('preAmp time jitter = '+str(dts.std()))\n",
    "print('Walk corrected time jitter = '+str(dts.std()))\n",
    "dt_lowPower.append(dts.std())"
   ]
  },
  {
   "cell_type": "code",
   "execution_count": 3,
   "metadata": {},
   "outputs": [
    {
     "name": "stdout",
     "output_type": "stream",
     "text": [
      "[43.49707, 23.93794, 17.267035]\n",
      "[33.295055, 19.565441, 14.644978]\n"
     ]
    }
   ],
   "source": [
    "print(dt_lowPower)\n",
    "print(dt_highPower)"
   ]
  },
  {
   "cell_type": "code",
   "execution_count": 4,
   "metadata": {},
   "outputs": [
    {
     "data": {
      "image/png": "[encoded data removed]",
      "text/plain": [
       "<matplotlib.figure.Figure at 0x10a4ab7b8>"
      ]
     },
     "metadata": {
      "needs_background": "light"
     },
     "output_type": "display_data"
    }
   ],
   "source": [
    "#from jupyterthemes import jtplot\n",
    "#jtplot.style()\n",
    "l1 = plt.plot([100,200,300],dt_lowPower,marker='o',label='low power')\n",
    "l2 = plt.plot([100,200,300],dt_highPower,marker='o',label='high power')\n",
    "plt.title('Pre-amp Jitter vs amplitude (HV160V)')\n",
    "plt.xlabel('preAmp amplitude (mV)')\n",
    "plt.ylabel('Jitter (ps)')\n",
    "plt.grid()\n",
    "plt.rc('grid',linestyle='-.')\n",
    "plt.legend(loc='upper right')\n",
    "plt.savefig('preAmp_Jitter_vs_amplitude.png')\n",
    "plt.show()\n"
   ]
  },
  {
   "cell_type": "code",
   "execution_count": null,
   "metadata": {},
   "outputs": [],
   "source": []
  }
 ],
 "metadata": {
  "kernelspec": {
   "display_name": "Python 3",
   "language": "python",
   "name": "python3"
  },
  "language_info": {
   "codemirror_mode": {
    "name": "ipython",
    "version": 3
   },
   "file_extension": ".py",
   "mimetype": "text/x-python",
   "name": "python",
   "nbconvert_exporter": "python",
   "pygments_lexer": "ipython3",
   "version": "3.5.0"
  }
 },
 "nbformat": 4,
 "nbformat_minor": 2
}
