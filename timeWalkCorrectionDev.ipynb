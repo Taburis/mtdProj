{
 "cells": [
  {
   "cell_type": "code",
   "execution_count": 1,
   "metadata": {},
   "outputs": [
    {
     "name": "stdout",
     "output_type": "stream",
     "text": [
      "6164\n",
      "time consumed: 3.0602610111236572\n"
     ]
    }
   ],
   "source": [
    "from mtdScope import scopeEmulator\n",
    "import matplotlib.pyplot as plt\n",
    "import numpy as np\n",
    "import time\n",
    "        \n",
    "#load the sample data to test\n",
    "se = scopeEmulator()\n",
    "se.loadData('./HV130_high_300mV_def.hd5')\n",
    "#se.loadData('./HV160_lowPower_100mV_11340R.hd5')\n",
    "timing_start = time.time()\n",
    "points = se.getEventAdjusted(10)\n",
    "xx= se.leftJumpScanFast(points[0], points[2])\n",
    "plt.plot(points[0], points[2])\n",
    "plt.plot(points[0][xx-100:xx+100], points[2][xx-100:xx+100])\n",
    "timing_stop = time.time()\n",
    "print(xx)\n",
    "print('time consumed: '+str(timing_stop-timing_start))\n"
   ]
  },
  {
   "cell_type": "code",
   "execution_count": 3,
   "metadata": {},
   "outputs": [
    {
     "name": "stdout",
     "output_type": "stream",
     "text": [
      "jump at 6170\n"
     ]
    },
    {
     "data": {
      "text/plain": [
       "[<matplotlib.lines.Line2D at 0x116a3cc50>]"
      ]
     },
     "execution_count": 3,
     "metadata": {},
     "output_type": "execute_result"
    },
    {
     "data": {
      "image/png": "[encoded data removed]",
      "text/plain": [
       "<matplotlib.figure.Figure at 0x10a2a44e0>"
      ]
     },
     "metadata": {
      "needs_background": "light"
     },
     "output_type": "display_data"
    }
   ],
   "source": [
    "ievt = 200\n",
    "evt1 = se.getEvent(ievt)\n",
    "plt.subplot(211)\n",
    "plt.plot(evt1[0], evt1[1])\n",
    "plt.plot(evt1[0], evt1[2])\n",
    "\n",
    "evt2 = se.getEventAdjusted(ievt)\n",
    "\n",
    "nch = 2\n",
    "points = evt2\n",
    "n0 = se.leftJumpScan(points[0], points[nch])\n",
    "print('jump at '+str(n0))\n",
    "plt.subplot(212)\n",
    "plt.plot(evt2[0], evt2[1])\n",
    "plt.plot(evt2[0], evt2[2])\n",
    "plt.plot(evt2[0][0:50], evt2[2][0:50])"
   ]
  },
  {
   "cell_type": "code",
   "execution_count": 2,
   "metadata": {},
   "outputs": [
    {
     "name": "stdout",
     "output_type": "stream",
     "text": [
      "[6294, 6295]\n",
      "reading consume: -2.5692429542541504\n",
      "calculation consume: -0.012176036834716797\n",
      "reading consume: -2.538801908493042\n",
      "calculation consume: -0.015444040298461914\n"
     ]
    },
    {
     "data": {
      "image/png": "[encoded data removed]",
      "text/plain": [
       "<matplotlib.figure.Figure at 0x114394198>"
      ]
     },
     "metadata": {
      "needs_background": "light"
     },
     "output_type": "display_data"
    },
    {
     "name": "stdout",
     "output_type": "stream",
     "text": [
      "0.0\n",
      "time consumed: 7.651031970977783\n"
     ]
    }
   ],
   "source": [
    "\n",
    "#Test on the cross finder and CFT functions\n",
    "timing_start = time.time()\n",
    "ievt = 1261\n",
    "nch = 2\n",
    "evt1 = se.getEventAdjusted(ievt)\n",
    "\n",
    "points = se._loadedData_\n",
    "n0 = se.leftJumpScan(points[0], points[nch])\n",
    "fcft = se.simulateCFT(points[0], points[nch])\n",
    "inte = se.crossRegion(fcft,n0)\n",
    "#plt.plot(evt1[0], evt1[2])\n",
    "print(inte)\n",
    "plt.plot(evt1[0][100:-100], fcft(evt1[0][100:-100]))\n",
    "plt.plot(evt1[0][inte[0]:inte[1]+10], evt1[2][inte[0]:inte[1]+10])\n",
    "plt.plot(evt1[0][inte[0]:inte[1]+1], fcft(evt1[0][inte[0]:inte[1]+1]), color='Magenta')\n",
    "plt.plot(evt1[0][inte[0]-10:inte[1]+10], fcft(evt1[0][inte[0]-10:inte[1]+10]))\n",
    "\n",
    "ndens = 100\n",
    "densdt = (evt1[0][inte[1]+10]-evt1[0][inte[0]-10])/ndens\n",
    "densx = np.zeros(ndens)\n",
    "\n",
    "for i in range(ndens):\n",
    "    densx[i] = evt1[0][inte[0]-10]+i*densdt\n",
    "\n",
    "#plt.plot(densx, fcft(densx))\n",
    "res = se.getCFTiming(ievt,method = 'linear')\n",
    "res2 = se.getCFTiming(ievt,method = 'newton')\n",
    "#print(res)\n",
    "plt.axvline((inte[1]+inte[0])/2*se.dt,color='Green')\n",
    "\n",
    "plt.axvline(res[nch-1],color='Red')\n",
    "plt.show()\n",
    "print(res[nch-1]-res2[nch-1])\n",
    "\n",
    "timing_stop = time.time()\n",
    "print('time consumed: '+str(timing_stop-timing_start))"
   ]
  },
  {
   "cell_type": "code",
   "execution_count": null,
   "metadata": {},
   "outputs": [],
   "source": [
    "#calculating the jitter\n",
    "timing_start = time.time()\n",
    "nevent = 1300\n",
    "t0s = np.zeros(nevent, dtype = np.float64)\n",
    "t1s = np.zeros(nevent, dtype = np.float64)\n",
    "dtCFT = np.zeros(nevent, dtype = np.float64)\n",
    "#for i in range(se.nevent):\n",
    "for i in range(1200, nevent):\n",
    "    if i % 10 == 0: print('processing the '+str(i)+'th events')\n",
    "    res = se.getCFTiming(i, method = 'newton')\n",
    "    t0s[i] = res[0]\n",
    "    t1s[i] = res[1]\n",
    "    dtCFT[i] = res[1] - res[0]\n",
    "print('processing done!')\n",
    "timing_stop = time.time()\n",
    "print('time consumed: '+str(timing_stop-timing_start))"
   ]
  },
  {
   "cell_type": "code",
   "execution_count": null,
   "metadata": {},
   "outputs": [],
   "source": [
    "#plt.hist(t0s, 10)\n",
    "t0ss = t0s\n",
    "t1ss = t1s\n",
    "dtCFTs = dtCFT\n",
    "t0s=t0ss[1200:-1]\n",
    "t1s=t1ss[1200:-1]\n",
    "dtCFT=dtCFTs[1200:-1]\n",
    "print('trigger time jitter = '+str(t0s.std())+' ps','minimum t0 is ',t0s.min())\n",
    "print('preamp time jitter = '+str(t1s.std())+' ps')\n",
    "print('Walk corrected time jitter = '+str(dtCFT.std())+' ps')\n",
    "plt.hist(dtCFT, 20)\n",
    "st = np.argmin(t1s)\n",
    "print('event '+str(st)+' is ',t1s[st])"
   ]
  },
  {
   "cell_type": "code",
   "execution_count": null,
   "metadata": {},
   "outputs": [],
   "source": [
    "ts = se.runTimeWalk(r0=1300, r1= 1400, nstep = 10, method = 'linear')"
   ]
  },
  {
   "cell_type": "code",
   "execution_count": null,
   "metadata": {},
   "outputs": [],
   "source": [
    "a = np.array([1,-2, -0.5])\n",
    "a.argmax()"
   ]
  },
  {
   "cell_type": "code",
   "execution_count": null,
   "metadata": {},
   "outputs": [],
   "source": []
  }
 ],
 "metadata": {
  "kernelspec": {
   "display_name": "Python 3",
   "language": "python",
   "name": "python3"
  },
  "language_info": {
   "codemirror_mode": {
    "name": "ipython",
    "version": 3
   },
   "file_extension": ".py",
   "mimetype": "text/x-python",
   "name": "python",
   "nbconvert_exporter": "python",
   "pygments_lexer": "ipython3",
   "version": "3.5.0"
  }
 },
 "nbformat": 4,
 "nbformat_minor": 2
}
