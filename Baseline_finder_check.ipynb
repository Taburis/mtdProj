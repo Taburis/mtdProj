{
 "cells": [
  {
   "cell_type": "code",
   "execution_count": 1,
   "metadata": {
    "scrolled": true
   },
   "outputs": [
    {
     "ename": "KeyError",
     "evalue": "\"Unable to open object (object 'waveform' doesn't exist)\"",
     "output_type": "error",
     "traceback": [
      "\u001b[0;31m---------------------------------------------------------------------------\u001b[0m",
      "\u001b[0;31mKeyError\u001b[0m                                  Traceback (most recent call last)",
      "\u001b[0;32m<ipython-input-1-fdb44571b84e>\u001b[0m in \u001b[0;36m<module>\u001b[0;34m\u001b[0m\n\u001b[1;32m     13\u001b[0m \u001b[0mse1\u001b[0m \u001b[0;34m=\u001b[0m \u001b[0mscopeEmulator\u001b[0m\u001b[0;34m(\u001b[0m\u001b[0;34m)\u001b[0m\u001b[0;34m\u001b[0m\u001b[0;34m\u001b[0m\u001b[0m\n\u001b[1;32m     14\u001b[0m \u001b[0;31m#se1.loadData('./data/SecondRun/Jan07_205749_Run9.hdf5')\u001b[0m\u001b[0;34m\u001b[0m\u001b[0;34m\u001b[0m\u001b[0;34m\u001b[0m\u001b[0m\n\u001b[0;32m---> 15\u001b[0;31m \u001b[0mse1\u001b[0m\u001b[0;34m.\u001b[0m\u001b[0mloadData\u001b[0m\u001b[0;34m(\u001b[0m\u001b[0;34m'./data/Run1.hdf5'\u001b[0m\u001b[0;34m)\u001b[0m\u001b[0;34m\u001b[0m\u001b[0;34m\u001b[0m\u001b[0m\n\u001b[0m\u001b[1;32m     16\u001b[0m \u001b[0mse1\u001b[0m\u001b[0;34m.\u001b[0m\u001b[0msliceEvent\u001b[0m\u001b[0;34m(\u001b[0m\u001b[0;34m)\u001b[0m\u001b[0;34m\u001b[0m\u001b[0;34m\u001b[0m\u001b[0m\n",
      "\u001b[0;32m~/Research/etroc/mtdProj/mtdScope.py\u001b[0m in \u001b[0;36mloadData\u001b[0;34m(self, path)\u001b[0m\n\u001b[1;32m     29\u001b[0m     \u001b[0;32mdef\u001b[0m \u001b[0mloadData\u001b[0m\u001b[0;34m(\u001b[0m\u001b[0mself\u001b[0m\u001b[0;34m,\u001b[0m \u001b[0mpath\u001b[0m\u001b[0;34m)\u001b[0m\u001b[0;34m:\u001b[0m\u001b[0;34m\u001b[0m\u001b[0;34m\u001b[0m\u001b[0m\n\u001b[1;32m     30\u001b[0m         \u001b[0mself\u001b[0m\u001b[0;34m.\u001b[0m\u001b[0m_f0\u001b[0m\u001b[0;34m=\u001b[0m\u001b[0mh5py\u001b[0m\u001b[0;34m.\u001b[0m\u001b[0mFile\u001b[0m\u001b[0;34m(\u001b[0m\u001b[0mpath\u001b[0m\u001b[0;34m,\u001b[0m \u001b[0;34m'r'\u001b[0m\u001b[0;34m)\u001b[0m\u001b[0;34m\u001b[0m\u001b[0;34m\u001b[0m\u001b[0m\n\u001b[0;32m---> 31\u001b[0;31m         \u001b[0mself\u001b[0m\u001b[0;34m.\u001b[0m\u001b[0m_db_\u001b[0m \u001b[0;34m=\u001b[0m \u001b[0mself\u001b[0m\u001b[0;34m.\u001b[0m\u001b[0m_f0\u001b[0m\u001b[0;34m[\u001b[0m\u001b[0;34m'waveform'\u001b[0m\u001b[0;34m]\u001b[0m\u001b[0;34m\u001b[0m\u001b[0;34m\u001b[0m\u001b[0m\n\u001b[0m\u001b[1;32m     32\u001b[0m         \u001b[0mself\u001b[0m\u001b[0;34m.\u001b[0m\u001b[0mattrs\u001b[0m \u001b[0;34m=\u001b[0m \u001b[0mself\u001b[0m\u001b[0;34m.\u001b[0m\u001b[0m_db_\u001b[0m\u001b[0;34m.\u001b[0m\u001b[0mattrs\u001b[0m\u001b[0;34m\u001b[0m\u001b[0;34m\u001b[0m\u001b[0m\n\u001b[1;32m     33\u001b[0m         \u001b[0mself\u001b[0m\u001b[0;34m.\u001b[0m\u001b[0mnsamples\u001b[0m \u001b[0;34m=\u001b[0m \u001b[0mself\u001b[0m\u001b[0;34m.\u001b[0m\u001b[0mattrs\u001b[0m\u001b[0;34m[\u001b[0m\u001b[0;34m'nPt'\u001b[0m\u001b[0;34m]\u001b[0m\u001b[0;34m\u001b[0m\u001b[0;34m\u001b[0m\u001b[0m\n",
      "\u001b[0;32mh5py/_objects.pyx\u001b[0m in \u001b[0;36mh5py._objects.with_phil.wrapper\u001b[0;34m()\u001b[0m\n",
      "\u001b[0;32mh5py/_objects.pyx\u001b[0m in \u001b[0;36mh5py._objects.with_phil.wrapper\u001b[0;34m()\u001b[0m\n",
      "\u001b[0;32m/Library/Frameworks/Python.framework/Versions/3.8/lib/python3.8/site-packages/h5py/_hl/group.py\u001b[0m in \u001b[0;36m__getitem__\u001b[0;34m(self, name)\u001b[0m\n\u001b[1;32m    262\u001b[0m                 \u001b[0;32mraise\u001b[0m \u001b[0mValueError\u001b[0m\u001b[0;34m(\u001b[0m\u001b[0;34m\"Invalid HDF5 object reference\"\u001b[0m\u001b[0;34m)\u001b[0m\u001b[0;34m\u001b[0m\u001b[0;34m\u001b[0m\u001b[0m\n\u001b[1;32m    263\u001b[0m         \u001b[0;32melse\u001b[0m\u001b[0;34m:\u001b[0m\u001b[0;34m\u001b[0m\u001b[0;34m\u001b[0m\u001b[0m\n\u001b[0;32m--> 264\u001b[0;31m             \u001b[0moid\u001b[0m \u001b[0;34m=\u001b[0m \u001b[0mh5o\u001b[0m\u001b[0;34m.\u001b[0m\u001b[0mopen\u001b[0m\u001b[0;34m(\u001b[0m\u001b[0mself\u001b[0m\u001b[0;34m.\u001b[0m\u001b[0mid\u001b[0m\u001b[0;34m,\u001b[0m \u001b[0mself\u001b[0m\u001b[0;34m.\u001b[0m\u001b[0m_e\u001b[0m\u001b[0;34m(\u001b[0m\u001b[0mname\u001b[0m\u001b[0;34m)\u001b[0m\u001b[0;34m,\u001b[0m \u001b[0mlapl\u001b[0m\u001b[0;34m=\u001b[0m\u001b[0mself\u001b[0m\u001b[0;34m.\u001b[0m\u001b[0m_lapl\u001b[0m\u001b[0;34m)\u001b[0m\u001b[0;34m\u001b[0m\u001b[0;34m\u001b[0m\u001b[0m\n\u001b[0m\u001b[1;32m    265\u001b[0m \u001b[0;34m\u001b[0m\u001b[0m\n\u001b[1;32m    266\u001b[0m         \u001b[0motype\u001b[0m \u001b[0;34m=\u001b[0m \u001b[0mh5i\u001b[0m\u001b[0;34m.\u001b[0m\u001b[0mget_type\u001b[0m\u001b[0;34m(\u001b[0m\u001b[0moid\u001b[0m\u001b[0;34m)\u001b[0m\u001b[0;34m\u001b[0m\u001b[0;34m\u001b[0m\u001b[0m\n",
      "\u001b[0;32mh5py/_objects.pyx\u001b[0m in \u001b[0;36mh5py._objects.with_phil.wrapper\u001b[0;34m()\u001b[0m\n",
      "\u001b[0;32mh5py/_objects.pyx\u001b[0m in \u001b[0;36mh5py._objects.with_phil.wrapper\u001b[0;34m()\u001b[0m\n",
      "\u001b[0;32mh5py/h5o.pyx\u001b[0m in \u001b[0;36mh5py.h5o.open\u001b[0;34m()\u001b[0m\n",
      "\u001b[0;31mKeyError\u001b[0m: \"Unable to open object (object 'waveform' doesn't exist)\""
     ]
    }
   ],
   "source": [
    "from mtdScope import scopeEmulator\n",
    "import matplotlib.pyplot as plt\n",
    "import numpy as np\n",
    "import time\n",
    "#from scipy.optimize import curve_fit\n",
    "#import ROOT as rt\n",
    "#from jupyterthemes import jtplot\n",
    "\n",
    "\n",
    "#jtplot.style()\n",
    "        \n",
    "#load the sample data to test\n",
    "se1 = scopeEmulator()\n",
    "#se1.loadData('./data/SecondRun/Jan07_205749_Run9.hdf5')\n",
    "se1.loadData('./data/Run1.hdf5')\n",
    "se1.sliceEvent()\n"
   ]
  },
  {
   "cell_type": "markdown",
   "metadata": {},
   "source": [
    "# Baseline finder in CNN model\n",
    "\n",
    "### problem description\n",
    "\n",
    "The idea to find baseline is that finding a region where is no obvious signal presents and do a fitting to extract the background. But on hand, the standard for \"no signal presented\" can be a little bit tricky to be implemented. On the other hand, the region window may change from event-to-event which will makes the implementation more tricky. However, the baseline is crutial for the integration since a wrong baseline means shifted the integration by a constant."
   ]
  },
  {
   "cell_type": "code",
   "execution_count": null,
   "metadata": {
    "scrolled": false
   },
   "outputs": [],
   "source": [
    "se1.showEvent(93,[1,2,3])\n",
    "points = se1.getEventAdjusted(93)"
   ]
  },
  {
   "cell_type": "code",
   "execution_count": null,
   "metadata": {},
   "outputs": [],
   "source": [
    "points = se1.getEventAdjusted(93)\n",
    "bkg, data = se1.normalized_input(points[1])\n",
    "plt.plot(data)\n",
    "line = np.full(1000, 0)\n",
    "plt.plot(line, '--',color='red',label='Wrong baseline')\n",
    "plt.legend(loc='best')"
   ]
  },
  {
   "cell_type": "markdown",
   "metadata": {},
   "source": [
    "### Why CNN?\n",
    "For the event show above, the baseline is found by a simple program and it is obviously higher than its background, this will affect the integration significantly especially when the noise is large.\n",
    "\n",
    "However, finding baseline is pretty easy for a human in sense by just a glance would be able to know the baseline information. Based on this idea, I trained a CNN model to find the baseline. The training samples are a random sampled Gaussian (as signal) + random sampled flat distribution (as true background). The achitecture of this model is show below:"
   ]
  },
  {
   "cell_type": "code",
   "execution_count": null,
   "metadata": {
    "scrolled": true
   },
   "outputs": [],
   "source": [
    "se1.load_cnn_baseline_finder('baseline_finder_v2.h5')"
   ]
  },
  {
   "cell_type": "markdown",
   "metadata": {},
   "source": [
    "### The performace of the model\n",
    "With this trained model above, I'd be able to correct the baseline easily. The first figure below shows the ML corrected baseline for the event above. And the second plot is the overlay between the with and without baseline corrected signals, you can see the CNN model works well."
   ]
  },
  {
   "cell_type": "code",
   "execution_count": null,
   "metadata": {
    "scrolled": false
   },
   "outputs": [],
   "source": [
    "base = se1.baseline_finder.predict(data.reshape(1,1000,1))\n",
    "line = np.full(1000, base)\n",
    "plt.plot(data)\n",
    "plt.plot(line, '--',color='red')\n",
    "print('baseline:',base)\n",
    "plt.show()\n",
    "n=93\n",
    "chan = 1\n",
    "points = se1.getEventAdjusted(n)\n",
    "points2 = se1.getEventAdjusted(n)\n",
    "se1.cnn_baseline_correction(points,[1,2,3])\n",
    "line = np.full(se1.nsamples,0)\n",
    "\n",
    "plt.plot(points2[chan],label='origin')\n",
    "plt.plot(points[chan],label='corrected')\n",
    "plt.plot(line, '--',color='red')\n",
    "plt.legend(loc='lower right')\n",
    "plt.show()"
   ]
  },
  {
   "cell_type": "markdown",
   "metadata": {},
   "source": [
    "### The performace over all the 500 sample data\n",
    "This data is got from Jongho which contained 500 events, the statistics isn't high but enough to see something interesting. \n",
    "\n",
    "In this case, I processed the 500 events in two ways: \n",
    "1. SetA made by the simple programer to find the baseline. This set can be benchmark for testing the ML model.\n",
    "2. SetB made by using the ML baseline correction\n",
    "\n",
    "For these two sets, I applied the same trigger condition and integrated over the channel 2 to check the distribution difference between these two methods. "
   ]
  },
  {
   "cell_type": "code",
   "execution_count": null,
   "metadata": {
    "scrolled": true
   },
   "outputs": [],
   "source": [
    "se1 = scopeEmulator()\n",
    "se1.loadData('./data/SecondRun/Jan07_205749_Run9.hdf5')\n",
    "se1.sliceEvent()\n",
    "se1.load_cnn_baseline_finder('baseline_finder_v2.h5')\n",
    "charge1 = se1.charge_convertion(0,se1.nevent, 2, 0.04, [2],1)\n",
    "charge0 = se1.charge_convertion(0,se1.nevent, 2, 0.04, [2],0)"
   ]
  },
  {
   "cell_type": "markdown",
   "metadata": {},
   "source": [
    "This plots below shows the overlay of the distribtions of the integration from the two methods described above. One can easily see that the blue one (with the correction) have significant shape difference from the orange one (no correction). And the baseline corrected one are more close to a Landau distribution! The following plots just show the Landu fitting results."
   ]
  },
  {
   "cell_type": "code",
   "execution_count": null,
   "metadata": {
    "scrolled": true
   },
   "outputs": [],
   "source": [
    "charges1 = np.multiply(charge1[1],-1.0/44000)\n",
    "charges0 = np.multiply(charge0[1],-1.0/44000)\n",
    "plt.hist(charges1,bins=60,alpha=0.5, label='With correction')\n",
    "plt.hist(charges0,bins=60,alpha=0.5, label='No correction')\n",
    "plt.legend(loc='best')\n",
    "plt.xlabel('Charge (fC)')\n",
    "plt.ylabel('events')\n",
    "plt.show()"
   ]
  },
  {
   "cell_type": "code",
   "execution_count": null,
   "metadata": {
    "scrolled": false
   },
   "outputs": [],
   "source": [
    "\n",
    "charges1 = np.multiply(charge1[1],-1.0/4400*1e15*1e-12)\n",
    "charges0 = np.multiply(charge1[1],-1.0/4400*1e15*1e-12)\n",
    "hchg1= rt.TH1F(\"hchg1\", \"\", 100, 0, .08)\n",
    "hchg0= rt.TH1F(\"hchg0\", \"\", 100, 0, .08)\n",
    "for i in range(len(charges)):\n",
    "    hchg1.Fill(charges[i])\n",
    "    hchg0.Fill(charges[i])\n",
    "#hchg1.Scale(1.0/hchg.Integral())\n",
    "#hchg0.Scale(1.0/hchg.Integral())\n",
    "canvas = rt.TCanvas(\"c\", \"\", 500, 500)\n",
    "\n",
    "flandau = rt.TF1(\"flandau\", \"[0]*TMath::Landau(x,[1],[2])\", 0,0.08)\n",
    "#bins = range(0, 0.08, 0.01)\n",
    "#plt.plot(bin_edges[:-1], hist)\n",
    "#plt.hist(charges, bins = 80)\n",
    "\n",
    "#plt.xlabel(\"fC\")\n"
   ]
  },
  {
   "cell_type": "code",
   "execution_count": null,
   "metadata": {
    "scrolled": true
   },
   "outputs": [],
   "source": [
    "flandau.SetParameters(0.1, 0.01, 0.01)\n",
    "\n",
    "hchg.Draw()\n",
    "hchg.Fit(flandau,\"\", \"\", 0,0.06)\n",
    "canvas.Draw()"
   ]
  },
  {
   "cell_type": "code",
   "execution_count": null,
   "metadata": {},
   "outputs": [],
   "source": [
    "canvas0 = rt.TCanvas(\"c0\", \"\", 500, 500)\n",
    "flandau.SetParameters(0.1, 0.01, 0.01)\n",
    "\n",
    "hchg.Draw()\n",
    "hchg.Fit(flandau,\"\", \"\", 0,0.06)\n",
    "canvas.Draw()"
   ]
  }
 ],
 "metadata": {
  "kernelspec": {
   "display_name": "Python 3",
   "language": "python",
   "name": "python3"
  },
  "language_info": {
   "codemirror_mode": {
    "name": "ipython",
    "version": 3
   },
   "file_extension": ".py",
   "mimetype": "text/x-python",
   "name": "python",
   "nbconvert_exporter": "python",
   "pygments_lexer": "ipython3",
   "version": "3.8.1"
  }
 },
 "nbformat": 4,
 "nbformat_minor": 2
}
