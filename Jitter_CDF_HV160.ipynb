{
 "cells": [
  {
   "cell_type": "code",
   "execution_count": 1,
   "metadata": {},
   "outputs": [],
   "source": [
    "from mtdScope import scopeEmulator\n",
    "import matplotlib.pyplot as plt\n",
    "import numpy as np\n",
    "import time\n",
    "        \n",
    "#load the sample data to test\n",
    "se = scopeEmulator()\n",
    "#se.loadData('./data/HV160_high_300mV_def.hd5')\n",
    "#se.loadData('./data/HV160_high_300mV_def.hd5')\n",
    "se.loadData('./data/LaserTest_HV160_low/HV160_high_200mV_def.hd5')\n",
    "se.sliceEvent()\n"
   ]
  },
  {
   "cell_type": "code",
   "execution_count": 3,
   "metadata": {},
   "outputs": [
    {
     "name": "stdout",
     "output_type": "stream",
     "text": [
      "processing the 0th events...\n",
      "processing the 100th events...\n",
      "processing the 200th events...\n",
      "processing the 300th events...\n",
      "processing the 400th events...\n",
      "processing the 500th events...\n",
      "processing the 600th events...\n",
      "processing the 700th events...\n",
      "processing the 800th events...\n",
      "processing the 900th events...\n",
      "processing the 1000th events...\n",
      "processing the 1100th events...\n",
      "processing the 1200th events...\n",
      "processing the 1300th events...\n",
      "processing the 1400th events...\n",
      "processing the 1500th events...\n",
      "processing the 1600th events...\n",
      "processing the 1700th events...\n",
      "processing the 1800th events...\n",
      "processing the 1900th events...\n",
      "processing the 2000th events...\n",
      "processing the 2100th events...\n",
      "processing the 2200th events...\n",
      "processing the 2300th events...\n",
      "processing the 2400th events...\n",
      "processing the 2500th events...\n",
      "processing the 2600th events...\n",
      "processing the 2700th events...\n",
      "processing the 2800th events...\n",
      "processing the 2900th events...\n",
      "processing the 3000th events...\n",
      "processing the 3100th events...\n",
      "processing the 3200th events...\n",
      "processing the 3300th events...\n",
      "processing the 3400th events...\n",
      "processing the 3500th events...\n",
      "processing the 3600th events...\n",
      "processing the 3700th events...\n",
      "processing the 3800th events...\n",
      "processing the 3900th events...\n",
      "processing the 4000th events...\n",
      "processing the 4100th events...\n",
      "processing the 4200th events...\n",
      "processing the 4300th events...\n",
      "processing the 4400th events...\n",
      "processing the 4500th events...\n",
      "processing the 4600th events...\n",
      "processing the 4700th events...\n",
      "processing the 4800th events...\n",
      "processing the 4900th events...\n",
      "time consumed: 11.390515089035034\n",
      "trigger time jitter = 16.27806\n",
      "preAmp time jitter = 23.406107\n",
      "Walk corrected time jitter = 19.565441\n"
     ]
    },
    {
     "data": {
      "text/plain": [
       "(array([  1.,   0.,   3.,  12.,  17.,  52., 109., 228., 395., 566., 762.,\n",
       "        786., 715., 552., 425., 221., 102.,  38.,  13.,   3.]),\n",
       " array([42271.23046875, 42279.03417969, 42286.83789062, 42294.64160156,\n",
       "        42302.4453125 , 42310.24902344, 42318.05273438, 42325.85644531,\n",
       "        42333.66015625, 42341.46386719, 42349.26757812, 42357.07128906,\n",
       "        42364.875     , 42372.67871094, 42380.48242188, 42388.28613281,\n",
       "        42396.08984375, 42403.89355469, 42411.69726562, 42419.50097656,\n",
       "        42427.3046875 ]),\n",
       " <a list of 20 Patch objects>)"
      ]
     },
     "execution_count": 3,
     "metadata": {},
     "output_type": "execute_result"
    },
    {
     "data": {
      "image/png": "[encoded data removed]",
      "text/plain": [
       "<matplotlib.figure.Figure at 0x112bba780>"
      ]
     },
     "metadata": {
      "needs_background": "light"
     },
     "output_type": "display_data"
    }
   ],
   "source": [
    "ts = se.runTimeWalk(r0=0, r1= se.nevent, nstep = 100, method = 'newton')\n",
    "dts = np.subtract(ts[1], ts[0])\n",
    "print('trigger time jitter = '+str(ts[0].std()))\n",
    "print('preAmp time jitter = '+str(ts[1].std()))\n",
    "print('Walk corrected time jitter = '+str(dts.std()))\n",
    "plt.hist(dts, 20)\n"
   ]
  },
  {
   "cell_type": "code",
   "execution_count": 4,
   "metadata": {},
   "outputs": [
    {
     "name": "stdout",
     "output_type": "stream",
     "text": [
      "min: 2749\n",
      "max: 3455\n"
     ]
    },
    {
     "data": {
      "text/plain": [
       "63152.805"
      ]
     },
     "execution_count": 4,
     "metadata": {},
     "output_type": "execute_result"
    }
   ],
   "source": [
    "print('min: '+str(np.argmin(dts)))\n",
    "print('max: '+str(np.argmax(dts)))\n",
    "ts[1][202]"
   ]
  },
  {
   "cell_type": "code",
   "execution_count": 5,
   "metadata": {},
   "outputs": [
    {
     "data": {
      "image/png": "[encoded data removed]",
      "text/plain": [
       "<matplotlib.figure.Figure at 0x112e24438>"
      ]
     },
     "metadata": {
      "needs_background": "light"
     },
     "output_type": "display_data"
    }
   ],
   "source": [
    "\n",
    "contral={}\n",
    "contral['zoomRange'] = 500\n",
    "contral['check_signalCFT'] = True\n",
    "contral['check_getCFTiming'] = True\n",
    "se.debug_cft(202, 1, 'linear', contral)"
   ]
  },
  {
   "cell_type": "code",
   "execution_count": 6,
   "metadata": {},
   "outputs": [
    {
     "name": "stdout",
     "output_type": "stream",
     "text": [
      "processing the 0th events...\n",
      "processing the 100th events...\n",
      "processing the 200th events...\n",
      "processing the 300th events...\n",
      "processing the 400th events...\n",
      "processing the 500th events...\n",
      "processing the 600th events...\n",
      "processing the 700th events...\n",
      "processing the 800th events...\n",
      "processing the 900th events...\n",
      "processing the 1000th events...\n",
      "processing the 1100th events...\n",
      "processing the 1200th events...\n",
      "processing the 1300th events...\n",
      "processing the 1400th events...\n",
      "processing the 1500th events...\n",
      "processing the 1600th events...\n",
      "processing the 1700th events...\n",
      "processing the 1800th events...\n",
      "processing the 1900th events...\n",
      "processing the 2000th events...\n",
      "processing the 2100th events...\n",
      "processing the 2200th events...\n",
      "processing the 2300th events...\n",
      "processing the 2400th events...\n",
      "processing the 2500th events...\n",
      "processing the 2600th events...\n",
      "processing the 2700th events...\n",
      "processing the 2800th events...\n",
      "processing the 2900th events...\n",
      "processing the 3000th events...\n",
      "processing the 3100th events...\n",
      "processing the 3200th events...\n",
      "processing the 3300th events...\n",
      "processing the 3400th events...\n",
      "processing the 3500th events...\n",
      "processing the 3600th events...\n",
      "processing the 3700th events...\n",
      "processing the 3800th events...\n",
      "processing the 3900th events...\n",
      "processing the 4000th events...\n",
      "processing the 4100th events...\n",
      "processing the 4200th events...\n",
      "processing the 4300th events...\n",
      "processing the 4400th events...\n",
      "processing the 4500th events...\n",
      "processing the 4600th events...\n",
      "processing the 4700th events...\n",
      "processing the 4800th events...\n",
      "processing the 4900th events...\n",
      "time consumed: 0.38297080993652344\n",
      "trigger time jitter = 0.0\n",
      "preAmp time jitter = 0.0\n",
      "Walk corrected time jitter = 0.0\n"
     ]
    },
    {
     "data": {
      "text/plain": [
       "(array([   0.,    0.,    0.,    0.,    0.,    0.,    0.,    0.,    0.,\n",
       "           0., 5000.,    0.,    0.,    0.,    0.,    0.,    0.,    0.,\n",
       "           0.,    0.]),\n",
       " array([-0.5 , -0.45, -0.4 , -0.35, -0.3 , -0.25, -0.2 , -0.15, -0.1 ,\n",
       "        -0.05,  0.  ,  0.05,  0.1 ,  0.15,  0.2 ,  0.25,  0.3 ,  0.35,\n",
       "         0.4 ,  0.45,  0.5 ]),\n",
       " <a list of 20 Patch objects>)"
      ]
     },
     "execution_count": 6,
     "metadata": {},
     "output_type": "execute_result"
    },
    {
     "data": {
      "image/png": "[encoded data removed]",
      "text/plain": [
       "<matplotlib.figure.Figure at 0x112be0588>"
      ]
     },
     "metadata": {
      "needs_background": "light"
     },
     "output_type": "display_data"
    }
   ],
   "source": [
    "ts = se.runTimeWalk_peak2peak_filtered(r0=0, r1= se.nevent, nstep = 100, method = 'newton', peak=200, pkrage=20)\n",
    "dts = np.subtract(ts[1], ts[0])\n",
    "print('trigger time jitter = '+str(ts[0].std()))\n",
    "print('preAmp time jitter = '+str(ts[1].std()))\n",
    "print('Walk corrected time jitter = '+str(dts.std()))\n",
    "plt.hist(dts, 20)"
   ]
  },
  {
   "cell_type": "code",
   "execution_count": null,
   "metadata": {},
   "outputs": [],
   "source": []
  }
 ],
 "metadata": {
  "kernelspec": {
   "display_name": "Python 3",
   "language": "python",
   "name": "python3"
  },
  "language_info": {
   "codemirror_mode": {
    "name": "ipython",
    "version": 3
   },
   "file_extension": ".py",
   "mimetype": "text/x-python",
   "name": "python",
   "nbconvert_exporter": "python",
   "pygments_lexer": "ipython3",
   "version": "3.5.0"
  }
 },
 "nbformat": 4,
 "nbformat_minor": 2
}
