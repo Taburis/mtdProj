{
 "cells": [
  {
   "cell_type": "code",
   "execution_count": 1,
   "metadata": {},
   "outputs": [],
   "source": [
    "from mtdScope import scopeEmulator\n",
    "import matplotlib.pyplot as plt\n",
    "import numpy as np\n",
    "import time\n",
    "        \n",
    "#load the sample data to test\n",
    "se = scopeEmulator()\n",
    "#se.loadData('./data/HV160_high_300mV_def.hd5')\n",
    "#se.loadData('./data/HV160_high_300mV_def.hd5')\n",
    "se.loadData('./data/LaserTest_HV160_low/HV160_high_100mV_def.hd5')\n",
    "se.sliceEvent()\n"
   ]
  },
  {
   "cell_type": "code",
   "execution_count": 3,
   "metadata": {},
   "outputs": [
    {
     "name": "stdout",
     "output_type": "stream",
     "text": [
      "processing the 0th events...\n",
      "processing the 500th events...\n",
      "processing the 1000th events...\n",
      "processing the 1500th events...\n",
      "processing the 2000th events...\n",
      "processing the 2500th events...\n",
      "processing the 3000th events...\n",
      "processing the 3500th events...\n",
      "processing the 4000th events...\n",
      "processing the 4500th events...\n",
      "time consumed: 11.114360809326172\n",
      "trigger time jitter = 16.258907\n",
      "preAmp time jitter = 36.006298\n",
      "Walk corrected time jitter = 33.295055\n"
     ]
    },
    {
     "data": {
      "text/plain": [
       "(array([  1.,   1.,   6.,  10.,  19.,  69., 129., 267., 401., 594., 737.,\n",
       "        852., 708., 537., 359., 192.,  82.,  23.,  10.,   3.]),\n",
       " array([42193.765625  , 42207.15820312, 42220.55078125, 42233.94335938,\n",
       "        42247.3359375 , 42260.72851562, 42274.12109375, 42287.51367188,\n",
       "        42300.90625   , 42314.29882812, 42327.69140625, 42341.08398438,\n",
       "        42354.4765625 , 42367.86914062, 42381.26171875, 42394.65429688,\n",
       "        42408.046875  , 42421.43945312, 42434.83203125, 42448.22460938,\n",
       "        42461.6171875 ]),\n",
       " <a list of 20 Patch objects>)"
      ]
     },
     "execution_count": 3,
     "metadata": {},
     "output_type": "execute_result"
    },
    {
     "data": {
      "image/png": "[encoded data removed]",
      "text/plain": [
       "<matplotlib.figure.Figure at 0x11258d5f8>"
      ]
     },
     "metadata": {
      "needs_background": "light"
     },
     "output_type": "display_data"
    }
   ],
   "source": [
    "ts = se.runTimeWalk(r0=0, r1= se.nevent, nstep = 500, method = 'newton')\n",
    "dts = np.subtract(ts[1], ts[0])\n",
    "print('trigger time jitter = '+str(ts[0].std()))\n",
    "print('preAmp time jitter = '+str(ts[1].std()))\n",
    "print('Walk corrected time jitter = '+str(dts.std()))\n",
    "plt.hist(dts, 20)\n"
   ]
  },
  {
   "cell_type": "code",
   "execution_count": null,
   "metadata": {},
   "outputs": [],
   "source": []
  }
 ],
 "metadata": {
  "kernelspec": {
   "display_name": "Python 3",
   "language": "python",
   "name": "python3"
  },
  "language_info": {
   "codemirror_mode": {
    "name": "ipython",
    "version": 3
   },
   "file_extension": ".py",
   "mimetype": "text/x-python",
   "name": "python",
   "nbconvert_exporter": "python",
   "pygments_lexer": "ipython3",
   "version": "3.7.3"
  }
 },
 "nbformat": 4,
 "nbformat_minor": 2
}
