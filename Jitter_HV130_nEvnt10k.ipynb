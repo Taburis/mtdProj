{
 "cells": [
  {
   "cell_type": "code",
   "execution_count": 1,
   "metadata": {},
   "outputs": [],
   "source": [
    "from mtdScope import scopeEmulator\n",
    "import matplotlib.pyplot as plt\n",
    "import numpy as np\n",
    "import time\n",
    "        \n",
    "#load the sample data to test\n",
    "se = scopeEmulator()\n",
    "se.loadData('./HV130_high_300mV_def.hd5')"
   ]
  },
  {
   "cell_type": "code",
   "execution_count": 3,
   "metadata": {},
   "outputs": [
    {
     "name": "stdout",
     "output_type": "stream",
     "text": [
      "processing the 1300th events...\n",
      "processing the 1310th events...\n",
      "processing the 1320th events...\n",
      "processing the 1330th events...\n",
      "processing the 1340th events...\n",
      "processing the 1350th events...\n",
      "processing the 1360th events...\n",
      "processing the 1370th events...\n",
      "processing the 1380th events...\n",
      "processing the 1390th events...\n",
      "time consumed: 181.52049088478088\n",
      "trigger time jitter = 9.20068\n",
      "preAmp time jitter = 138.9564\n",
      "Walk corrected time jitter = 138.9564\n"
     ]
    },
    {
     "data": {
      "text/plain": [
       "(array([ 1.,  0.,  0.,  0.,  0.,  0.,  0.,  0.,  0.,  0.,  0.,  0.,  0.,\n",
       "         0.,  0.,  0.,  0.,  0., 42., 57.]),\n",
       " array([40744.52734375, 40817.63730469, 40890.74726563, 40963.85722656,\n",
       "        41036.9671875 , 41110.07714844, 41183.18710938, 41256.29707031,\n",
       "        41329.40703125, 41402.51699219, 41475.62695312, 41548.73691406,\n",
       "        41621.846875  , 41694.95683594, 41768.06679687, 41841.17675781,\n",
       "        41914.28671875, 41987.39667969, 42060.50664062, 42133.61660156,\n",
       "        42206.7265625 ]),\n",
       " <a list of 20 Patch objects>)"
      ]
     },
     "execution_count": 3,
     "metadata": {},
     "output_type": "execute_result"
    },
    {
     "data": {
      "image/png": "[encoded data removed]",
      "text/plain": [
       "<matplotlib.figure.Figure at 0x114351128>"
      ]
     },
     "metadata": {
      "needs_background": "light"
     },
     "output_type": "display_data"
    }
   ],
   "source": [
    "ts = se.runTimeWalk(r0=1300, r1= 1400, nstep = 10, method = 'linear')\n",
    "dts = np.subtract(ts[1], ts[0])\n",
    "print('trigger time jitter = '+str(ts[0].std()))\n",
    "print('preAmp time jitter = '+str(ts[1].std()))\n",
    "print('Walk corrected time jitter = '+str(ts[1].std()))\n",
    "plt.hist(dts, 20)\n"
   ]
  },
  {
   "cell_type": "code",
   "execution_count": null,
   "metadata": {},
   "outputs": [],
   "source": []
  }
 ],
 "metadata": {
  "kernelspec": {
   "display_name": "Python 3",
   "language": "python",
   "name": "python3"
  },
  "language_info": {
   "codemirror_mode": {
    "name": "ipython",
    "version": 3
   },
   "file_extension": ".py",
   "mimetype": "text/x-python",
   "name": "python",
   "nbconvert_exporter": "python",
   "pygments_lexer": "ipython3",
   "version": "3.5.0"
  }
 },
 "nbformat": 4,
 "nbformat_minor": 2
}
